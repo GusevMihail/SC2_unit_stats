{
 "cells": [
  {
   "cell_type": "markdown",
   "source": [
    "# Initialization"
   ],
   "metadata": {
    "collapsed": false,
    "pycharm": {
     "name": "#%% md\n"
    }
   }
  },
  {
   "cell_type": "code",
   "execution_count": 100,
   "metadata": {},
   "outputs": [],
   "source": [
    "import numpy as np\n",
    "import pandas as pd\n",
    "import seaborn as sns\n"
   ]
  },
  {
   "cell_type": "markdown",
   "source": [
    "## read and prepare data"
   ],
   "metadata": {
    "collapsed": false,
    "pycharm": {
     "name": "#%% md\n"
    }
   }
  },
  {
   "cell_type": "code",
   "execution_count": 155,
   "metadata": {
    "pycharm": {
     "name": "#%%\n"
    }
   },
   "outputs": [],
   "source": [
    "df = pd.read_excel(r'sc2 unit stats.xlsx')\n"
   ]
  },
  {
   "cell_type": "code",
   "execution_count": 163,
   "outputs": [],
   "source": [
    "df = df.replace('-', np.nan)"
   ],
   "metadata": {
    "collapsed": false,
    "pycharm": {
     "name": "#%%\n"
    }
   }
  },
  {
   "cell_type": "code",
   "execution_count": 164,
   "outputs": [
    {
     "name": "stdout",
     "output_type": "stream",
     "text": [
      "<class 'pandas.core.frame.DataFrame'>\n",
      "RangeIndex: 69 entries, 0 to 68\n",
      "Data columns (total 27 columns):\n",
      " #   Column         Non-Null Count  Dtype  \n",
      "---  ------         --------------  -----  \n",
      " 0   Unit           69 non-null     object \n",
      " 1   Tier           57 non-null     object \n",
      " 2   Race           69 non-null     object \n",
      " 3   Supply         56 non-null     float64\n",
      " 4   Minerals       63 non-null     float64\n",
      " 5   Gas            61 non-null     float64\n",
      " 6   Building time  67 non-null     object \n",
      " 7   Size           69 non-null     object \n",
      " 8   Cargo          36 non-null     float64\n",
      " 9   Armor          69 non-null     object \n",
      " 10  HP             69 non-null     object \n",
      " 11  Shields        69 non-null     int64  \n",
      " 12  Attribut       69 non-null     object \n",
      " 13  Ground attack  49 non-null     object \n",
      " 14  Air attack     24 non-null     object \n",
      " 15  Bonus          25 non-null     object \n",
      " 16  Ground DPS     49 non-null     object \n",
      " 17  Air DPS        25 non-null     object \n",
      " 18  Bonus DPS      23 non-null     object \n",
      " 19  Attack Mod     26 non-null     object \n",
      " 20  Cooldown       55 non-null     object \n",
      " 21  Speed          63 non-null     object \n",
      " 22  Creep bonus    17 non-null     object \n",
      " 23  Range          56 non-null     object \n",
      " 24  Sight          69 non-null     object \n",
      " 25  Psionic        69 non-null     bool   \n",
      " 26  Tier_value     69 non-null     int64  \n",
      "dtypes: bool(1), float64(4), int64(2), object(20)\n",
      "memory usage: 14.2+ KB\n"
     ]
    }
   ],
   "source": [
    "df.info()"
   ],
   "metadata": {
    "collapsed": false,
    "pycharm": {
     "name": "#%%\n"
    }
   }
  },
  {
   "cell_type": "code",
   "execution_count": 183,
   "outputs": [
    {
     "name": "stdout",
     "output_type": "stream",
     "text": [
      "HP\n",
      "[20 100 40 80 70 10 200 120 150 300 350 45 60 125 90 135 175 400 180 140\n",
      " 550 1500 250 25 35 30 145 160 50 500 5 225]\n",
      "[nan 10 5]\n",
      "Armor\n",
      "[0 1 2 3 10]\n",
      "[ 1. nan  2.]\n"
     ]
    }
   ],
   "source": [
    "for column in ['HP', 'Armor']:\n",
    "    print(column)\n",
    "    for i in df[column].index:\n",
    "        value = df[column][i]\n",
    "\n",
    "        # catch values str like '45 (+10)', but not int 45\n",
    "        if type(value) is str:\n",
    "            base = int(value.split('(')[0])\n",
    "            bonus = int(value[value.find('(')+1 : value.find(')')])\n",
    "            print(f'{value} -> {base}, {bonus}')\n",
    "            df.at[i, column] = base\n",
    "            df.at[i, column+'_bonus'] = bonus\n",
    "    print(df[column].unique())\n",
    "    print(df[column+'_bonus'].unique())"
   ],
   "metadata": {
    "collapsed": false,
    "pycharm": {
     "name": "#%%\n"
    }
   }
  },
  {
   "cell_type": "code",
   "execution_count": 178,
   "outputs": [
    {
     "data": {
      "text/plain": "12"
     },
     "execution_count": 178,
     "metadata": {},
     "output_type": "execute_result"
    }
   ],
   "source": [],
   "metadata": {
    "collapsed": false,
    "pycharm": {
     "name": "#%%\n"
    }
   }
  },
  {
   "cell_type": "code",
   "execution_count": 156,
   "outputs": [],
   "source": [
    "df['Psionic'] = df.Attribut.str.contains('P')"
   ],
   "metadata": {
    "collapsed": false,
    "pycharm": {
     "name": "#%% add tag\n"
    }
   }
  },
  {
   "cell_type": "code",
   "execution_count": 186,
   "outputs": [],
   "source": [
    "# tier_values = {'-':0, 'D':1, 'C':2, 'B':4, 'A':8, 'S':16}\n",
    "tier_values = {np.NAN:0, 'D':1, 'C':2, 'B':3, 'A':4, 'S':5}\n",
    "df['Tier_value'] = df.Tier.apply(lambda x: tier_values[x])"
   ],
   "metadata": {
    "collapsed": false,
    "pycharm": {
     "name": "#%% converting tiers to numeric values\n"
    }
   }
  },
  {
   "cell_type": "code",
   "execution_count": 108,
   "metadata": {
    "pycharm": {
     "name": "#%%\n"
    }
   },
   "outputs": [],
   "source": [
    "# df = df.set_index('Unit')"
   ]
  },
  {
   "cell_type": "code",
   "execution_count": 126,
   "metadata": {
    "pycharm": {
     "name": "#%%\n"
    }
   },
   "outputs": [
    {
     "data": {
      "text/plain": "array([20, 100, 40, 80, 70, 10, 200, 120, 150, 300, 350, 45, 60,\n       '45 (+10)', 125, 90, 135, 175, 400, 180, 140, 550, 1500, 250, 25,\n       35, '30 (+5)', 145, 160, 50, 500, 5, 225, 30], dtype=object)"
     },
     "execution_count": 126,
     "metadata": {},
     "output_type": "execute_result"
    }
   ],
   "source": [
    "df.HP.unique()"
   ]
  },
  {
   "cell_type": "code",
   "execution_count": null,
   "outputs": [],
   "source": [],
   "metadata": {
    "collapsed": false,
    "pycharm": {
     "name": "#%%\n"
    }
   }
  },
  {
   "cell_type": "code",
   "execution_count": 162,
   "outputs": [
    {
     "data": {
      "text/plain": "array([  20,  100,   40,   80,   70,   10,  200,  120,  150,  300,  350,\n         45,   60,  125,   90,  135,  175,  400,  180,  140,  550, 1500,\n        250,   25,   35,   30,  145,  160,   50,  500,    5,  225])"
     },
     "execution_count": 162,
     "metadata": {},
     "output_type": "execute_result"
    }
   ],
   "source": [],
   "metadata": {
    "collapsed": false,
    "pycharm": {
     "name": "#%%\n"
    }
   }
  },
  {
   "cell_type": "code",
   "execution_count": 153,
   "outputs": [
    {
     "data": {
      "text/plain": "array(['2', '10', '4', '8', '7', '1', '20', '12', '15', '30', '35', '6',\n       '+10', '9', '13', '17', '40', '18', '14', '55', '150', '25', '3',\n       '+5', '16', '5', '50', '', '22'], dtype=object)"
     },
     "execution_count": 153,
     "metadata": {},
     "output_type": "execute_result"
    }
   ],
   "source": [
    "# df.HP.apply(lambda x: str(x)[str(x).find('(')+1 : str(x).find(')')]).unique()\n",
    "#"
   ],
   "metadata": {
    "collapsed": false,
    "pycharm": {
     "name": "#%%\n"
    }
   }
  },
  {
   "cell_type": "code",
   "execution_count": 172,
   "outputs": [
    {
     "name": "stdout",
     "output_type": "stream",
     "text": [
      "45 (+10) -> 10\n",
      "30 (+5) -> 5\n"
     ]
    },
    {
     "data": {
      "text/plain": "array([nan, 10, 5], dtype=object)"
     },
     "execution_count": 172,
     "metadata": {},
     "output_type": "execute_result"
    }
   ],
   "source": [
    "for i in df.HP.index:\n",
    "    value = df.HP[i]\n",
    "    if type(value) is str:\n",
    "        bonus = int(value[value.find('(')+1 : value.find(')')])\n",
    "        print(f'{value} -> {bonus}')\n",
    "        df.at[i, 'HP_bonus'] = bonus\n",
    "df.HP_bonus.unique()\n"
   ],
   "metadata": {
    "collapsed": false,
    "pycharm": {
     "name": "#%%\n"
    }
   }
  },
  {
   "cell_type": "code",
   "execution_count": 154,
   "metadata": {
    "pycharm": {
     "name": "#%%\n"
    }
   },
   "outputs": [],
   "source": [
    "df.HP = df.HP.apply(lambda x:str(x).split(' (')[0]).astype(int)\n",
    "\n"
   ]
  },
  {
   "cell_type": "code",
   "execution_count": 152,
   "outputs": [
    {
     "name": "stdout",
     "output_type": "stream",
     "text": [
      "<class 'pandas.core.frame.DataFrame'>\n",
      "RangeIndex: 69 entries, 0 to 68\n",
      "Data columns (total 28 columns):\n",
      " #   Column         Non-Null Count  Dtype \n",
      "---  ------         --------------  ----- \n",
      " 0   Unit           69 non-null     object\n",
      " 1   Tier           69 non-null     object\n",
      " 2   Race           69 non-null     object\n",
      " 3   Supply         69 non-null     object\n",
      " 4   Minerals       69 non-null     object\n",
      " 5   Gas            69 non-null     object\n",
      " 6   Building time  69 non-null     object\n",
      " 7   Size           69 non-null     object\n",
      " 8   Cargo          69 non-null     object\n",
      " 9   Armor          69 non-null     object\n",
      " 10  HP             69 non-null     object\n",
      " 11  Shields        69 non-null     int64 \n",
      " 12  Attribut       69 non-null     object\n",
      " 13  Ground attack  69 non-null     object\n",
      " 14  Air attack     69 non-null     object\n",
      " 15  Bonus          69 non-null     object\n",
      " 16  Ground DPS     69 non-null     object\n",
      " 17  Air DPS        69 non-null     object\n",
      " 18  Bonus DPS      69 non-null     object\n",
      " 19  Attack Mod     68 non-null     object\n",
      " 20  Cooldown       69 non-null     object\n",
      " 21  Speed          69 non-null     object\n",
      " 22  Creep bonus    23 non-null     object\n",
      " 23  Range          69 non-null     object\n",
      " 24  Sight          69 non-null     object\n",
      " 25  Psionic        69 non-null     bool  \n",
      " 26  Tier_value     69 non-null     int64 \n",
      " 27  HP_bonus       69 non-null     object\n",
      "dtypes: bool(1), int64(2), object(25)\n",
      "memory usage: 14.7+ KB\n"
     ]
    }
   ],
   "source": [
    "df.info()"
   ],
   "metadata": {
    "collapsed": false,
    "pycharm": {
     "name": "#%%\n"
    }
   }
  },
  {
   "cell_type": "markdown",
   "source": [
    "## seaborn setup"
   ],
   "metadata": {
    "collapsed": false
   }
  },
  {
   "cell_type": "code",
   "execution_count": null,
   "outputs": [],
   "source": [
    "sns.set(rc={'figure.figsize':(10,6)})\n",
    "sns.set_style('whitegrid')\n"
   ],
   "metadata": {
    "collapsed": false,
    "pycharm": {
     "name": "#%% set style\n"
    }
   }
  },
  {
   "cell_type": "code",
   "execution_count": 42,
   "outputs": [],
   "source": [
    "sc_race_colors = {\n",
    "    'Protoss':'#edc124',\n",
    "    'Terran':'#386ca8',\n",
    "    'Zerg':'#953e9e'\n",
    "}\n",
    "\n",
    "tiers_order = ['S','A','B','C','D']\n",
    "\n",
    "sc_psionic_colors = {True:'#b853c9', False:'#8c8c8c'}"
   ],
   "metadata": {
    "collapsed": false,
    "pycharm": {
     "name": "#%% define palettes and oreders\n"
    }
   }
  },
  {
   "cell_type": "markdown",
   "source": [
    "# Visualization\n",
    "## Compare races"
   ],
   "metadata": {
    "collapsed": false,
    "pycharm": {
     "name": "#%% md\n"
    }
   }
  },
  {
   "cell_type": "code",
   "execution_count": 72,
   "outputs": [
    {
     "data": {
      "text/plain": "<Figure size 720x432 with 1 Axes>",
      "image/png": "[encoded data removed]"
     },
     "metadata": {},
     "output_type": "display_data"
    }
   ],
   "source": [
    "sns.countplot(x='Tier', hue='Race', data=df[df.Tier != '-'],\n",
    "              order=tiers_order,\n",
    "              palette=sc_race_colors)\\\n",
    "    .set_title('unit tierlist by Skillous');"
   ],
   "metadata": {
    "collapsed": false,
    "pycharm": {
     "name": "#%%\n"
    }
   }
  },
  {
   "cell_type": "code",
   "execution_count": 26,
   "outputs": [
    {
     "data": {
      "text/plain": "<Figure size 604.8x288 with 3 Axes>",
      "image/png": "[encoded data removed]"
     },
     "metadata": {},
     "output_type": "display_data"
    }
   ],
   "source": [
    "sns.catplot(x=\"Tier\", hue=\"Race\", col=\"Race\",\n",
    "            data=df[df.Tier != '-'], kind=\"count\",\n",
    "            order=tiers_order, palette=sc_race_colors,\n",
    "            height=4, aspect=.7);"
   ],
   "metadata": {
    "collapsed": false,
    "pycharm": {
     "name": "#%%\n"
    }
   }
  },
  {
   "cell_type": "code",
   "execution_count": 80,
   "outputs": [
    {
     "data": {
      "text/plain": "<Figure size 288x288 with 1 Axes>",
      "image/png": "[encoded data removed]"
     },
     "metadata": {},
     "output_type": "display_data"
    }
   ],
   "source": [
    "g = sns.catplot(x=\"Race\", y='Tier_value',\n",
    "            data=df[df.Tier != '-'],\n",
    "            kind='box',\n",
    "            palette=sc_race_colors,\n",
    "            height=4)\n",
    "g.ax.set_title('Compare races');"
   ],
   "metadata": {
    "collapsed": false,
    "pycharm": {
     "name": "#%%\n"
    }
   }
  },
  {
   "cell_type": "code",
   "execution_count": 78,
   "outputs": [
    {
     "name": "stderr",
     "output_type": "stream",
     "text": [
      "C:\\Users\\Mihail\\AppData\\Local\\Temp/ipykernel_2152/434247742.py:1: UserWarning: Boolean Series key will be reindexed to match DataFrame index.\n",
      "  df[df.Race=='Protoss'][df.Tier=='S'].Unit\n"
     ]
    },
    {
     "data": {
      "text/plain": "5     High Templar\n9       Warp Prism\n14        Void Ray\nName: Unit, dtype: object"
     },
     "execution_count": 78,
     "metadata": {},
     "output_type": "execute_result"
    }
   ],
   "source": [
    "df[df.Race=='Protoss'][df.Tier=='S'].Unit"
   ],
   "metadata": {
    "collapsed": false,
    "pycharm": {
     "name": "#%%\n"
    }
   }
  },
  {
   "cell_type": "markdown",
   "source": [
    "## Casters vs other units"
   ],
   "metadata": {
    "collapsed": false,
    "pycharm": {
     "name": "#%% md\n"
    }
   }
  },
  {
   "cell_type": "code",
   "execution_count": 43,
   "outputs": [
    {
     "data": {
      "text/plain": "<Figure size 720x432 with 1 Axes>",
      "image/png": "[encoded data removed]"
     },
     "metadata": {},
     "output_type": "display_data"
    }
   ],
   "source": [
    "sns.countplot(x='Tier', hue='Psionic', data=df[df.Tier != '-'],\n",
    "              order=tiers_order,\n",
    "              palette=sc_psionic_colors)\\\n",
    "    .set_title('Casters vs other units');"
   ],
   "metadata": {
    "collapsed": false,
    "pycharm": {
     "name": "#%%\n"
    }
   }
  },
  {
   "cell_type": "code",
   "execution_count": 81,
   "outputs": [
    {
     "data": {
      "text/plain": "<Figure size 288x288 with 1 Axes>",
      "image/png": "[encoded data removed]"
     },
     "metadata": {},
     "output_type": "display_data"
    }
   ],
   "source": [
    "g = sns.catplot(x=\"Psionic\", y='Tier_value',\n",
    "            data=df[df.Tier != '-'],\n",
    "            kind='box',\n",
    "            palette=sc_psionic_colors,\n",
    "            height=4)\n",
    "g.ax.set_title('Casters vs other units');"
   ],
   "metadata": {
    "collapsed": false,
    "pycharm": {
     "name": "#%%\n"
    }
   }
  },
  {
   "cell_type": "code",
   "execution_count": null,
   "outputs": [],
   "source": [],
   "metadata": {
    "collapsed": false,
    "pycharm": {
     "name": "#%%\n"
    }
   }
  },
  {
   "cell_type": "markdown",
   "source": [
    "## Checking dependence of the rating on other parameters"
   ],
   "metadata": {
    "collapsed": false,
    "pycharm": {
     "name": "#%% md\n"
    }
   }
  },
  {
   "cell_type": "code",
   "execution_count": null,
   "outputs": [],
   "source": [
    "sns.scatterplot(x=)"
   ],
   "metadata": {
    "collapsed": false,
    "pycharm": {
     "name": "#%%\n"
    }
   }
  }
 ],
 "metadata": {
  "kernelspec": {
   "display_name": "Python 3 (ipykernel)",
   "language": "python",
   "name": "python3"
  },
  "language_info": {
   "codemirror_mode": {
    "name": "ipython",
    "version": 3
   },
   "file_extension": ".py",
   "mimetype": "text/x-python",
   "name": "python",
   "nbconvert_exporter": "python",
   "pygments_lexer": "ipython3",
   "version": "3.8.6"
  }
 },
 "nbformat": 4,
 "nbformat_minor": 1
}