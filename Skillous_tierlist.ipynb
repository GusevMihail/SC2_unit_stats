{
 "cells": [
  {
   "cell_type": "code",
   "execution_count": 4,
   "metadata": {
    "pycharm": {
     "is_executing": false
    }
   },
   "outputs": [],
   "source": [
    "import pandas as pd"
   ]
  },
  {
   "cell_type": "code",
   "execution_count": 5,
   "metadata": {
    "pycharm": {
     "is_executing": false,
     "name": "#%%\n"
    }
   },
   "outputs": [],
   "source": [
    "df = pd.read_excel(r'sc2 unit stats.xlsx')\n"
   ]
  },
  {
   "cell_type": "code",
   "execution_count": 16,
   "metadata": {
    "pycharm": {
     "is_executing": false
    }
   },
   "outputs": [
    {
     "data": {
      "text/html": [
       "<div>\n",
       "<style scoped>\n",
       "    .dataframe tbody tr th:only-of-type {\n",
       "        vertical-align: middle;\n",
       "    }\n",
       "\n",
       "    .dataframe tbody tr th {\n",
       "        vertical-align: top;\n",
       "    }\n",
       "\n",
       "    .dataframe thead th {\n",
       "        text-align: right;\n",
       "    }\n",
       "</style>\n",
       "<table border=\"1\" class=\"dataframe\">\n",
       "  <thead>\n",
       "    <tr style=\"text-align: right;\">\n",
       "      <th></th>\n",
       "      <th>Tier</th>\n",
       "      <th>Race</th>\n",
       "      <th>Supply</th>\n",
       "      <th>Minerals</th>\n",
       "      <th>Gas</th>\n",
       "      <th>Building time</th>\n",
       "      <th>Size</th>\n",
       "      <th>Cargo</th>\n",
       "      <th>Armor</th>\n",
       "      <th>HP</th>\n",
       "      <th>...</th>\n",
       "      <th>Bonus</th>\n",
       "      <th>Ground DPS</th>\n",
       "      <th>Air DPS</th>\n",
       "      <th>Bonus DPS</th>\n",
       "      <th>Attack Mod</th>\n",
       "      <th>Cooldown</th>\n",
       "      <th>Speed</th>\n",
       "      <th>Creep bonus</th>\n",
       "      <th>Range</th>\n",
       "      <th>Sight</th>\n",
       "    </tr>\n",
       "    <tr>\n",
       "      <th>Unit</th>\n",
       "      <th></th>\n",
       "      <th></th>\n",
       "      <th></th>\n",
       "      <th></th>\n",
       "      <th></th>\n",
       "      <th></th>\n",
       "      <th></th>\n",
       "      <th></th>\n",
       "      <th></th>\n",
       "      <th></th>\n",
       "      <th></th>\n",
       "      <th></th>\n",
       "      <th></th>\n",
       "      <th></th>\n",
       "      <th></th>\n",
       "      <th></th>\n",
       "      <th></th>\n",
       "      <th></th>\n",
       "      <th></th>\n",
       "      <th></th>\n",
       "      <th></th>\n",
       "    </tr>\n",
       "  </thead>\n",
       "  <tbody>\n",
       "    <tr>\n",
       "      <th>Probe</th>\n",
       "      <td>B</td>\n",
       "      <td>Protoss</td>\n",
       "      <td>1</td>\n",
       "      <td>50</td>\n",
       "      <td>0</td>\n",
       "      <td>12</td>\n",
       "      <td>0.75</td>\n",
       "      <td>1</td>\n",
       "      <td>0 (+1)</td>\n",
       "      <td>20</td>\n",
       "      <td>...</td>\n",
       "      <td>-</td>\n",
       "      <td>4.7</td>\n",
       "      <td>-</td>\n",
       "      <td>-</td>\n",
       "      <td>-</td>\n",
       "      <td>1.07</td>\n",
       "      <td>3.94</td>\n",
       "      <td>NaN</td>\n",
       "      <td>M</td>\n",
       "      <td>8</td>\n",
       "    </tr>\n",
       "    <tr>\n",
       "      <th>Zealot</th>\n",
       "      <td>A</td>\n",
       "      <td>Protoss</td>\n",
       "      <td>2</td>\n",
       "      <td>100</td>\n",
       "      <td>0</td>\n",
       "      <td>27/20</td>\n",
       "      <td>1</td>\n",
       "      <td>2</td>\n",
       "      <td>1 (+1)</td>\n",
       "      <td>100</td>\n",
       "      <td>...</td>\n",
       "      <td>-</td>\n",
       "      <td>18.6 (+2.33)</td>\n",
       "      <td>-</td>\n",
       "      <td>-</td>\n",
       "      <td>-</td>\n",
       "      <td>0.86</td>\n",
       "      <td>3.15 (4.725 +5.67 C)</td>\n",
       "      <td>NaN</td>\n",
       "      <td>M</td>\n",
       "      <td>9</td>\n",
       "    </tr>\n",
       "    <tr>\n",
       "      <th>Sentry</th>\n",
       "      <td>B</td>\n",
       "      <td>Protoss</td>\n",
       "      <td>2</td>\n",
       "      <td>50</td>\n",
       "      <td>100</td>\n",
       "      <td>26/23</td>\n",
       "      <td>1</td>\n",
       "      <td>2</td>\n",
       "      <td>1 (+1)</td>\n",
       "      <td>40</td>\n",
       "      <td>...</td>\n",
       "      <td>-</td>\n",
       "      <td>8.5 (+1.41)</td>\n",
       "      <td>8.5 (+1.41)</td>\n",
       "      <td>-</td>\n",
       "      <td>-</td>\n",
       "      <td>0.71</td>\n",
       "      <td>3.15</td>\n",
       "      <td>NaN</td>\n",
       "      <td>5</td>\n",
       "      <td>10</td>\n",
       "    </tr>\n",
       "    <tr>\n",
       "      <th>Stalker</th>\n",
       "      <td>A</td>\n",
       "      <td>Protoss</td>\n",
       "      <td>2</td>\n",
       "      <td>125</td>\n",
       "      <td>50</td>\n",
       "      <td>30/23</td>\n",
       "      <td>1.25</td>\n",
       "      <td>2</td>\n",
       "      <td>1 (+1)</td>\n",
       "      <td>80</td>\n",
       "      <td>...</td>\n",
       "      <td>+5 (+1) A</td>\n",
       "      <td>9.7 (+0.75)</td>\n",
       "      <td>9.7 (+0.75)</td>\n",
       "      <td>+3.7 (+0.75) A</td>\n",
       "      <td>P</td>\n",
       "      <td>1.34</td>\n",
       "      <td>4.13</td>\n",
       "      <td>NaN</td>\n",
       "      <td>6</td>\n",
       "      <td>10</td>\n",
       "    </tr>\n",
       "    <tr>\n",
       "      <th>Adept</th>\n",
       "      <td>C</td>\n",
       "      <td>Protoss</td>\n",
       "      <td>2</td>\n",
       "      <td>100</td>\n",
       "      <td>25</td>\n",
       "      <td>30/20</td>\n",
       "      <td>1</td>\n",
       "      <td>2</td>\n",
       "      <td>1 (+1)</td>\n",
       "      <td>70</td>\n",
       "      <td>...</td>\n",
       "      <td>+12 (+1) L</td>\n",
       "      <td>6.2 (+0.62)</td>\n",
       "      <td>-</td>\n",
       "      <td>+7.45 (+0.62) L</td>\n",
       "      <td>-</td>\n",
       "      <td>1.61 (1.11)</td>\n",
       "      <td>3.5 (4.78)</td>\n",
       "      <td>NaN</td>\n",
       "      <td>4</td>\n",
       "      <td>9</td>\n",
       "    </tr>\n",
       "    <tr>\n",
       "      <th>...</th>\n",
       "      <td>...</td>\n",
       "      <td>...</td>\n",
       "      <td>...</td>\n",
       "      <td>...</td>\n",
       "      <td>...</td>\n",
       "      <td>...</td>\n",
       "      <td>...</td>\n",
       "      <td>...</td>\n",
       "      <td>...</td>\n",
       "      <td>...</td>\n",
       "      <td>...</td>\n",
       "      <td>...</td>\n",
       "      <td>...</td>\n",
       "      <td>...</td>\n",
       "      <td>...</td>\n",
       "      <td>...</td>\n",
       "      <td>...</td>\n",
       "      <td>...</td>\n",
       "      <td>...</td>\n",
       "      <td>...</td>\n",
       "      <td>...</td>\n",
       "    </tr>\n",
       "    <tr>\n",
       "      <th>Viper</th>\n",
       "      <td>S</td>\n",
       "      <td>Zerg</td>\n",
       "      <td>3</td>\n",
       "      <td>100</td>\n",
       "      <td>200</td>\n",
       "      <td>29</td>\n",
       "      <td>2</td>\n",
       "      <td>-</td>\n",
       "      <td>1 (+1)</td>\n",
       "      <td>150</td>\n",
       "      <td>...</td>\n",
       "      <td>-</td>\n",
       "      <td>-</td>\n",
       "      <td>-</td>\n",
       "      <td>-</td>\n",
       "      <td>-</td>\n",
       "      <td>-</td>\n",
       "      <td>4.13</td>\n",
       "      <td>-</td>\n",
       "      <td>-</td>\n",
       "      <td>11</td>\n",
       "    </tr>\n",
       "    <tr>\n",
       "      <th>Brood Lord</th>\n",
       "      <td>B</td>\n",
       "      <td>Zerg</td>\n",
       "      <td>4</td>\n",
       "      <td>150</td>\n",
       "      <td>150</td>\n",
       "      <td>24</td>\n",
       "      <td>2</td>\n",
       "      <td>-</td>\n",
       "      <td>1 (+1)</td>\n",
       "      <td>225</td>\n",
       "      <td>...</td>\n",
       "      <td>-</td>\n",
       "      <td>22.4 (+2.24)</td>\n",
       "      <td>-</td>\n",
       "      <td>-</td>\n",
       "      <td>-</td>\n",
       "      <td>1.79</td>\n",
       "      <td>1.97</td>\n",
       "      <td>-</td>\n",
       "      <td>10</td>\n",
       "      <td>12</td>\n",
       "    </tr>\n",
       "    <tr>\n",
       "      <th>Broodling</th>\n",
       "      <td>-</td>\n",
       "      <td>Zerg</td>\n",
       "      <td>-</td>\n",
       "      <td>-</td>\n",
       "      <td>-</td>\n",
       "      <td>1</td>\n",
       "      <td>0.75</td>\n",
       "      <td>-</td>\n",
       "      <td>0 (+1)</td>\n",
       "      <td>30</td>\n",
       "      <td>...</td>\n",
       "      <td>-</td>\n",
       "      <td>8.7 (+2.17)</td>\n",
       "      <td>-</td>\n",
       "      <td>-</td>\n",
       "      <td>-</td>\n",
       "      <td>0.46</td>\n",
       "      <td>5.37</td>\n",
       "      <td>x1.0</td>\n",
       "      <td>M</td>\n",
       "      <td>7</td>\n",
       "    </tr>\n",
       "    <tr>\n",
       "      <th>Spine Crawler</th>\n",
       "      <td>-</td>\n",
       "      <td>Zerg</td>\n",
       "      <td>-</td>\n",
       "      <td>100</td>\n",
       "      <td>-</td>\n",
       "      <td>36</td>\n",
       "      <td>2x2</td>\n",
       "      <td>-</td>\n",
       "      <td>2</td>\n",
       "      <td>300</td>\n",
       "      <td>...</td>\n",
       "      <td>+5 A</td>\n",
       "      <td>18.9</td>\n",
       "      <td>-</td>\n",
       "      <td>+3.8 A</td>\n",
       "      <td>-</td>\n",
       "      <td>1.32</td>\n",
       "      <td>0, 1.4</td>\n",
       "      <td>x2.5</td>\n",
       "      <td>7</td>\n",
       "      <td>11</td>\n",
       "    </tr>\n",
       "    <tr>\n",
       "      <th>Spore Crawler</th>\n",
       "      <td>-</td>\n",
       "      <td>Zerg</td>\n",
       "      <td>-</td>\n",
       "      <td>75</td>\n",
       "      <td>-</td>\n",
       "      <td>21</td>\n",
       "      <td>2x2</td>\n",
       "      <td>-</td>\n",
       "      <td>1</td>\n",
       "      <td>400</td>\n",
       "      <td>...</td>\n",
       "      <td>+15 B</td>\n",
       "      <td>-</td>\n",
       "      <td>24.6</td>\n",
       "      <td>+24.6 B</td>\n",
       "      <td>P</td>\n",
       "      <td>0.61</td>\n",
       "      <td>0, 1.4</td>\n",
       "      <td>x2.6</td>\n",
       "      <td>7</td>\n",
       "      <td>11</td>\n",
       "    </tr>\n",
       "  </tbody>\n",
       "</table>\n",
       "<p>69 rows × 24 columns</p>\n",
       "</div>"
      ],
      "text/plain": [
       "              Tier     Race Supply Minerals  Gas Building time  Size Cargo  \\\n",
       "Unit                                                                         \n",
       "Probe            B  Protoss      1       50    0            12  0.75     1   \n",
       "Zealot           A  Protoss      2      100    0         27/20     1     2   \n",
       "Sentry           B  Protoss      2       50  100         26/23     1     2   \n",
       "Stalker          A  Protoss      2      125   50         30/23  1.25     2   \n",
       "Adept            C  Protoss      2      100   25         30/20     1     2   \n",
       "...            ...      ...    ...      ...  ...           ...   ...   ...   \n",
       "Viper            S     Zerg      3      100  200            29     2     -   \n",
       "Brood Lord       B     Zerg      4      150  150            24     2     -   \n",
       "Broodling        -     Zerg      -        -    -             1  0.75     -   \n",
       "Spine Crawler    -     Zerg      -      100    -            36   2x2     -   \n",
       "Spore Crawler    -     Zerg      -       75    -            21   2x2     -   \n",
       "\n",
       "                Armor   HP  ...       Bonus    Ground DPS      Air DPS  \\\n",
       "Unit                        ...                                          \n",
       "Probe          0 (+1)   20  ...           -           4.7            -   \n",
       "Zealot         1 (+1)  100  ...           -  18.6 (+2.33)            -   \n",
       "Sentry         1 (+1)   40  ...           -   8.5 (+1.41)  8.5 (+1.41)   \n",
       "Stalker        1 (+1)   80  ...   +5 (+1) A   9.7 (+0.75)  9.7 (+0.75)   \n",
       "Adept          1 (+1)   70  ...  +12 (+1) L   6.2 (+0.62)            -   \n",
       "...               ...  ...  ...         ...           ...          ...   \n",
       "Viper          1 (+1)  150  ...           -             -            -   \n",
       "Brood Lord     1 (+1)  225  ...           -  22.4 (+2.24)            -   \n",
       "Broodling      0 (+1)   30  ...           -   8.7 (+2.17)            -   \n",
       "Spine Crawler       2  300  ...        +5 A          18.9            -   \n",
       "Spore Crawler       1  400  ...       +15 B             -         24.6   \n",
       "\n",
       "                     Bonus DPS Attack Mod     Cooldown                 Speed  \\\n",
       "Unit                                                                           \n",
       "Probe                        -          -         1.07                  3.94   \n",
       "Zealot                       -          -         0.86  3.15 (4.725 +5.67 C)   \n",
       "Sentry                       -          -         0.71                  3.15   \n",
       "Stalker         +3.7 (+0.75) A          P         1.34                  4.13   \n",
       "Adept          +7.45 (+0.62) L          -  1.61 (1.11)            3.5 (4.78)   \n",
       "...                        ...        ...          ...                   ...   \n",
       "Viper                        -          -            -                  4.13   \n",
       "Brood Lord                   -          -         1.79                  1.97   \n",
       "Broodling                    -          -         0.46                  5.37   \n",
       "Spine Crawler           +3.8 A          -         1.32                0, 1.4   \n",
       "Spore Crawler          +24.6 B          P         0.61                0, 1.4   \n",
       "\n",
       "              Creep bonus Range Sight  \n",
       "Unit                                   \n",
       "Probe                 NaN     M     8  \n",
       "Zealot                NaN     M     9  \n",
       "Sentry                NaN     5    10  \n",
       "Stalker               NaN     6    10  \n",
       "Adept                 NaN     4     9  \n",
       "...                   ...   ...   ...  \n",
       "Viper                   -     -    11  \n",
       "Brood Lord              -    10    12  \n",
       "Broodling            x1.0     M     7  \n",
       "Spine Crawler        x2.5     7    11  \n",
       "Spore Crawler        x2.6     7    11  \n",
       "\n",
       "[69 rows x 24 columns]"
      ]
     },
     "execution_count": 16,
     "metadata": {},
     "output_type": "execute_result"
    }
   ],
   "source": [
    "df"
   ]
  },
  {
   "cell_type": "code",
   "execution_count": 34,
   "metadata": {
    "pycharm": {
     "is_executing": false,
     "name": "#%%\n"
    }
   },
   "outputs": [
    {
     "ename": "KeyError",
     "evalue": "\"None of ['Unit'] are in the columns\"",
     "output_type": "error",
     "traceback": [
      "\u001b[1;31m---------------------------------------------------------------------------\u001b[0m",
      "\u001b[1;31mKeyError\u001b[0m                                  Traceback (most recent call last)",
      "\u001b[1;32m<ipython-input-34-4b299da95b8a>\u001b[0m in \u001b[0;36m<module>\u001b[1;34m\u001b[0m\n\u001b[1;32m----> 1\u001b[1;33m \u001b[0mdf\u001b[0m \u001b[1;33m=\u001b[0m \u001b[0mdf\u001b[0m\u001b[1;33m.\u001b[0m\u001b[0mset_index\u001b[0m\u001b[1;33m(\u001b[0m\u001b[1;34m'Unit'\u001b[0m\u001b[1;33m)\u001b[0m\u001b[1;33m.\u001b[0m\u001b[0muniquie\u001b[0m\u001b[1;33m(\u001b[0m\u001b[1;33m)\u001b[0m\u001b[1;33m\u001b[0m\u001b[1;33m\u001b[0m\u001b[0m\n\u001b[0m\u001b[0;32m      2\u001b[0m \u001b[1;33m\u001b[0m\u001b[0m\n",
      "\u001b[1;32m~\\Miniconda3\\envs\\ds_learn\\lib\\site-packages\\pandas\\core\\frame.py\u001b[0m in \u001b[0;36mset_index\u001b[1;34m(self, keys, drop, append, inplace, verify_integrity)\u001b[0m\n\u001b[0;32m   4725\u001b[0m \u001b[1;33m\u001b[0m\u001b[0m\n\u001b[0;32m   4726\u001b[0m         \u001b[1;32mif\u001b[0m \u001b[0mmissing\u001b[0m\u001b[1;33m:\u001b[0m\u001b[1;33m\u001b[0m\u001b[1;33m\u001b[0m\u001b[0m\n\u001b[1;32m-> 4727\u001b[1;33m             \u001b[1;32mraise\u001b[0m \u001b[0mKeyError\u001b[0m\u001b[1;33m(\u001b[0m\u001b[1;34mf\"None of {missing} are in the columns\"\u001b[0m\u001b[1;33m)\u001b[0m\u001b[1;33m\u001b[0m\u001b[1;33m\u001b[0m\u001b[0m\n\u001b[0m\u001b[0;32m   4728\u001b[0m \u001b[1;33m\u001b[0m\u001b[0m\n\u001b[0;32m   4729\u001b[0m         \u001b[1;32mif\u001b[0m \u001b[0minplace\u001b[0m\u001b[1;33m:\u001b[0m\u001b[1;33m\u001b[0m\u001b[1;33m\u001b[0m\u001b[0m\n",
      "\u001b[1;31mKeyError\u001b[0m: \"None of ['Unit'] are in the columns\""
     ]
    }
   ],
   "source": [
    "df = df.set_index('Unit')"
   ]
  },
  {
   "cell_type": "code",
   "execution_count": 37,
   "metadata": {
    "pycharm": {
     "is_executing": false,
     "name": "#%%\n"
    }
   },
   "outputs": [
    {
     "data": {
      "text/plain": [
       "array([20, 100, 40, 80, 70, 10, 200, 120, 150, 300, 350, 45, 60,\n",
       "       '45 (+10)', 125, 90, 135, 175, 400, 180, 140, 550, 1500, 250, 25,\n",
       "       35, '30 (+5)', 145, 160, 50, 500, 5, 225, 30], dtype=object)"
      ]
     },
     "execution_count": 37,
     "metadata": {},
     "output_type": "execute_result"
    }
   ],
   "source": [
    "df.HP.unique()"
   ]
  },
  {
   "cell_type": "code",
   "execution_count": 44,
   "metadata": {
    "pycharm": {
     "is_executing": false,
     "name": "#%%\n"
    }
   },
   "outputs": [],
   "source": [
    "df.HP = df.HP.apply(lambda x:str(x).split(' (')[0]).astype(int)"
   ]
  },
  {
   "cell_type": "code",
   "execution_count": 76,
   "metadata": {
    "pycharm": {
     "is_executing": false,
     "name": "#%%\n"
    }
   },
   "outputs": [
    {
     "data": {
      "text/plain": [
       "<AxesSubplot:xlabel='Tier'>"
      ]
     },
     "execution_count": 76,
     "metadata": {},
     "output_type": "execute_result"
    },
    {
     "data": {
      "image/png": "[encoded data removed]",
      "text/plain": [
       "<Figure size 720x360 with 1 Axes>"
      ]
     },
     "metadata": {
      "needs_background": "light"
     },
     "output_type": "display_data"
    }
   ],
   "source": [
    "df[df.Tier != '-']\\\n",
    "    .groupby(['Tier','Race'])\\\n",
    "    .count().Gas.unstack(level = 1)\\\n",
    "    .plot.bar(figsize=(10,5))"
   ]
  },
  {
   "cell_type": "code",
   "execution_count": null,
   "metadata": {
    "pycharm": {
     "name": "#%%\n"
    }
   },
   "outputs": [],
   "source": [
    "df.groupby()"
   ]
  }
 ],
 "metadata": {
  "kernelspec": {
   "display_name": "PyCharm (SC2_unit_stats)",
   "language": "python",
   "name": "pycharm-3fb775f4"
  },
  "language_info": {
   "codemirror_mode": {
    "name": "ipython",
    "version": 3
   },
   "file_extension": ".py",
   "mimetype": "text/x-python",
   "name": "python",
   "nbconvert_exporter": "python",
   "pygments_lexer": "ipython3",
   "version": "3.8.10"
  },
  "pycharm": {
   "stem_cell": {
    "cell_type": "raw",
    "metadata": {
     "collapsed": false
    },
    "source": []
   }
  }
 },
 "nbformat": 4,
 "nbformat_minor": 1
}
