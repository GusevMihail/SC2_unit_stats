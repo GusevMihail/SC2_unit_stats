{
 "cells": [
  {
   "cell_type": "code",
   "execution_count": 10,
   "metadata": {},
   "outputs": [],
   "source": [
    "import pandas as pd\n",
    "import seaborn as sns"
   ]
  },
  {
   "cell_type": "code",
   "execution_count": 45,
   "outputs": [],
   "source": [
    "sns.set(rc={'figure.figsize':(10,6)})\n",
    "sns.set_style('whitegrid')"
   ],
   "metadata": {
    "collapsed": false,
    "pycharm": {
     "name": "#%%\n"
    }
   }
  },
  {
   "cell_type": "code",
   "execution_count": 8,
   "metadata": {
    "pycharm": {
     "name": "#%%\n"
    }
   },
   "outputs": [],
   "source": [
    "df = pd.read_excel(r'sc2 unit stats.xlsx')\n"
   ]
  },
  {
   "cell_type": "code",
   "execution_count": 9,
   "metadata": {},
   "outputs": [
    {
     "data": {
      "text/plain": "             Unit Tier     Race Supply Minerals  Gas Building time  Size  \\\n0           Probe    B  Protoss      1       50    0            12  0.75   \n1          Zealot    A  Protoss      2      100    0         27/20     1   \n2          Sentry    B  Protoss      2       50  100         26/23     1   \n3         Stalker    A  Protoss      2      125   50         30/23  1.25   \n4           Adept    C  Protoss      2      100   25         30/20     1   \n..            ...  ...      ...    ...      ...  ...           ...   ...   \n64          Viper    S     Zerg      3      100  200            29     2   \n65     Brood Lord    B     Zerg      4      150  150            24     2   \n66      Broodling    -     Zerg      -        -    -             1  0.75   \n67  Spine Crawler    -     Zerg      -      100    -            36   2x2   \n68  Spore Crawler    -     Zerg      -       75    -            21   2x2   \n\n   Cargo   Armor  ...       Bonus    Ground DPS      Air DPS        Bonus DPS  \\\n0      1  0 (+1)  ...           -           4.7            -                -   \n1      2  1 (+1)  ...           -  18.6 (+2.33)            -                -   \n2      2  1 (+1)  ...           -   8.5 (+1.41)  8.5 (+1.41)                -   \n3      2  1 (+1)  ...   +5 (+1) A   9.7 (+0.75)  9.7 (+0.75)   +3.7 (+0.75) A   \n4      2  1 (+1)  ...  +12 (+1) L   6.2 (+0.62)            -  +7.45 (+0.62) L   \n..   ...     ...  ...         ...           ...          ...              ...   \n64     -  1 (+1)  ...           -             -            -                -   \n65     -  1 (+1)  ...           -  22.4 (+2.24)            -                -   \n66     -  0 (+1)  ...           -   8.7 (+2.17)            -                -   \n67     -       2  ...        +5 A          18.9            -           +3.8 A   \n68     -       1  ...       +15 B             -         24.6          +24.6 B   \n\n   Attack Mod     Cooldown                 Speed Creep bonus Range Sight  \n0           -         1.07                  3.94         NaN     M     8  \n1           -         0.86  3.15 (4.725 +5.67 C)         NaN     M     9  \n2           -         0.71                  3.15         NaN     5    10  \n3           P         1.34                  4.13         NaN     6    10  \n4           -  1.61 (1.11)            3.5 (4.78)         NaN     4     9  \n..        ...          ...                   ...         ...   ...   ...  \n64          -            -                  4.13           -     -    11  \n65          -         1.79                  1.97           -    10    12  \n66          -         0.46                  5.37        x1.0     M     7  \n67          -         1.32                0, 1.4        x2.5     7    11  \n68          P         0.61                0, 1.4        x2.6     7    11  \n\n[69 rows x 25 columns]",
      "text/html": "<div>\n<style scoped>\n    .dataframe tbody tr th:only-of-type {\n        vertical-align: middle;\n    }\n\n    .dataframe tbody tr th {\n        vertical-align: top;\n    }\n\n    .dataframe thead th {\n        text-align: right;\n    }\n</style>\n<table border=\"1\" class=\"dataframe\">\n  <thead>\n    <tr style=\"text-align: right;\">\n      <th></th>\n      <th>Unit</th>\n      <th>Tier</th>\n      <th>Race</th>\n      <th>Supply</th>\n      <th>Minerals</th>\n      <th>Gas</th>\n      <th>Building time</th>\n      <th>Size</th>\n      <th>Cargo</th>\n      <th>Armor</th>\n      <th>...</th>\n      <th>Bonus</th>\n      <th>Ground DPS</th>\n      <th>Air DPS</th>\n      <th>Bonus DPS</th>\n      <th>Attack Mod</th>\n      <th>Cooldown</th>\n      <th>Speed</th>\n      <th>Creep bonus</th>\n      <th>Range</th>\n      <th>Sight</th>\n    </tr>\n  </thead>\n  <tbody>\n    <tr>\n      <th>0</th>\n      <td>Probe</td>\n      <td>B</td>\n      <td>Protoss</td>\n      <td>1</td>\n      <td>50</td>\n      <td>0</td>\n      <td>12</td>\n      <td>0.75</td>\n      <td>1</td>\n      <td>0 (+1)</td>\n      <td>...</td>\n      <td>-</td>\n      <td>4.7</td>\n      <td>-</td>\n      <td>-</td>\n      <td>-</td>\n      <td>1.07</td>\n      <td>3.94</td>\n      <td>NaN</td>\n      <td>M</td>\n      <td>8</td>\n    </tr>\n    <tr>\n      <th>1</th>\n      <td>Zealot</td>\n      <td>A</td>\n      <td>Protoss</td>\n      <td>2</td>\n      <td>100</td>\n      <td>0</td>\n      <td>27/20</td>\n      <td>1</td>\n      <td>2</td>\n      <td>1 (+1)</td>\n      <td>...</td>\n      <td>-</td>\n      <td>18.6 (+2.33)</td>\n      <td>-</td>\n      <td>-</td>\n      <td>-</td>\n      <td>0.86</td>\n      <td>3.15 (4.725 +5.67 C)</td>\n      <td>NaN</td>\n      <td>M</td>\n      <td>9</td>\n    </tr>\n    <tr>\n      <th>2</th>\n      <td>Sentry</td>\n      <td>B</td>\n      <td>Protoss</td>\n      <td>2</td>\n      <td>50</td>\n      <td>100</td>\n      <td>26/23</td>\n      <td>1</td>\n      <td>2</td>\n      <td>1 (+1)</td>\n      <td>...</td>\n      <td>-</td>\n      <td>8.5 (+1.41)</td>\n      <td>8.5 (+1.41)</td>\n      <td>-</td>\n      <td>-</td>\n      <td>0.71</td>\n      <td>3.15</td>\n      <td>NaN</td>\n      <td>5</td>\n      <td>10</td>\n    </tr>\n    <tr>\n      <th>3</th>\n      <td>Stalker</td>\n      <td>A</td>\n      <td>Protoss</td>\n      <td>2</td>\n      <td>125</td>\n      <td>50</td>\n      <td>30/23</td>\n      <td>1.25</td>\n      <td>2</td>\n      <td>1 (+1)</td>\n      <td>...</td>\n      <td>+5 (+1) A</td>\n      <td>9.7 (+0.75)</td>\n      <td>9.7 (+0.75)</td>\n      <td>+3.7 (+0.75) A</td>\n      <td>P</td>\n      <td>1.34</td>\n      <td>4.13</td>\n      <td>NaN</td>\n      <td>6</td>\n      <td>10</td>\n    </tr>\n    <tr>\n      <th>4</th>\n      <td>Adept</td>\n      <td>C</td>\n      <td>Protoss</td>\n      <td>2</td>\n      <td>100</td>\n      <td>25</td>\n      <td>30/20</td>\n      <td>1</td>\n      <td>2</td>\n      <td>1 (+1)</td>\n      <td>...</td>\n      <td>+12 (+1) L</td>\n      <td>6.2 (+0.62)</td>\n      <td>-</td>\n      <td>+7.45 (+0.62) L</td>\n      <td>-</td>\n      <td>1.61 (1.11)</td>\n      <td>3.5 (4.78)</td>\n      <td>NaN</td>\n      <td>4</td>\n      <td>9</td>\n    </tr>\n    <tr>\n      <th>...</th>\n      <td>...</td>\n      <td>...</td>\n      <td>...</td>\n      <td>...</td>\n      <td>...</td>\n      <td>...</td>\n      <td>...</td>\n      <td>...</td>\n      <td>...</td>\n      <td>...</td>\n      <td>...</td>\n      <td>...</td>\n      <td>...</td>\n      <td>...</td>\n      <td>...</td>\n      <td>...</td>\n      <td>...</td>\n      <td>...</td>\n      <td>...</td>\n      <td>...</td>\n      <td>...</td>\n    </tr>\n    <tr>\n      <th>64</th>\n      <td>Viper</td>\n      <td>S</td>\n      <td>Zerg</td>\n      <td>3</td>\n      <td>100</td>\n      <td>200</td>\n      <td>29</td>\n      <td>2</td>\n      <td>-</td>\n      <td>1 (+1)</td>\n      <td>...</td>\n      <td>-</td>\n      <td>-</td>\n      <td>-</td>\n      <td>-</td>\n      <td>-</td>\n      <td>-</td>\n      <td>4.13</td>\n      <td>-</td>\n      <td>-</td>\n      <td>11</td>\n    </tr>\n    <tr>\n      <th>65</th>\n      <td>Brood Lord</td>\n      <td>B</td>\n      <td>Zerg</td>\n      <td>4</td>\n      <td>150</td>\n      <td>150</td>\n      <td>24</td>\n      <td>2</td>\n      <td>-</td>\n      <td>1 (+1)</td>\n      <td>...</td>\n      <td>-</td>\n      <td>22.4 (+2.24)</td>\n      <td>-</td>\n      <td>-</td>\n      <td>-</td>\n      <td>1.79</td>\n      <td>1.97</td>\n      <td>-</td>\n      <td>10</td>\n      <td>12</td>\n    </tr>\n    <tr>\n      <th>66</th>\n      <td>Broodling</td>\n      <td>-</td>\n      <td>Zerg</td>\n      <td>-</td>\n      <td>-</td>\n      <td>-</td>\n      <td>1</td>\n      <td>0.75</td>\n      <td>-</td>\n      <td>0 (+1)</td>\n      <td>...</td>\n      <td>-</td>\n      <td>8.7 (+2.17)</td>\n      <td>-</td>\n      <td>-</td>\n      <td>-</td>\n      <td>0.46</td>\n      <td>5.37</td>\n      <td>x1.0</td>\n      <td>M</td>\n      <td>7</td>\n    </tr>\n    <tr>\n      <th>67</th>\n      <td>Spine Crawler</td>\n      <td>-</td>\n      <td>Zerg</td>\n      <td>-</td>\n      <td>100</td>\n      <td>-</td>\n      <td>36</td>\n      <td>2x2</td>\n      <td>-</td>\n      <td>2</td>\n      <td>...</td>\n      <td>+5 A</td>\n      <td>18.9</td>\n      <td>-</td>\n      <td>+3.8 A</td>\n      <td>-</td>\n      <td>1.32</td>\n      <td>0, 1.4</td>\n      <td>x2.5</td>\n      <td>7</td>\n      <td>11</td>\n    </tr>\n    <tr>\n      <th>68</th>\n      <td>Spore Crawler</td>\n      <td>-</td>\n      <td>Zerg</td>\n      <td>-</td>\n      <td>75</td>\n      <td>-</td>\n      <td>21</td>\n      <td>2x2</td>\n      <td>-</td>\n      <td>1</td>\n      <td>...</td>\n      <td>+15 B</td>\n      <td>-</td>\n      <td>24.6</td>\n      <td>+24.6 B</td>\n      <td>P</td>\n      <td>0.61</td>\n      <td>0, 1.4</td>\n      <td>x2.6</td>\n      <td>7</td>\n      <td>11</td>\n    </tr>\n  </tbody>\n</table>\n<p>69 rows × 25 columns</p>\n</div>"
     },
     "execution_count": 9,
     "metadata": {},
     "output_type": "execute_result"
    }
   ],
   "source": [
    "df"
   ]
  },
  {
   "cell_type": "code",
   "execution_count": 5,
   "metadata": {
    "pycharm": {
     "name": "#%%\n"
    }
   },
   "outputs": [],
   "source": [
    "# df = df.set_index('Unit')"
   ]
  },
  {
   "cell_type": "code",
   "execution_count": 7,
   "metadata": {
    "pycharm": {
     "name": "#%%\n"
    }
   },
   "outputs": [
    {
     "data": {
      "text/plain": "array([20, 100, 40, 80, 70, 10, 200, 120, 150, 300, 350, 45, 60,\n       '45 (+10)', 125, 90, 135, 175, 400, 180, 140, 550, 1500, 250, 25,\n       35, '30 (+5)', 145, 160, 50, 500, 5, 225, 30], dtype=object)"
     },
     "execution_count": 7,
     "metadata": {},
     "output_type": "execute_result"
    }
   ],
   "source": [
    "df.HP.unique()"
   ]
  },
  {
   "cell_type": "code",
   "execution_count": 44,
   "metadata": {
    "pycharm": {
     "is_executing": false,
     "name": "#%%\n"
    }
   },
   "outputs": [],
   "source": [
    "df.HP = df.HP.apply(lambda x:str(x).split(' (')[0]).astype(int)"
   ]
  },
  {
   "cell_type": "code",
   "execution_count": 17,
   "outputs": [
    {
     "data": {
      "text/plain": "<AxesSubplot:xlabel='Tier', ylabel='count'>"
     },
     "execution_count": 17,
     "metadata": {},
     "output_type": "execute_result"
    },
    {
     "data": {
      "text/plain": "<Figure size 432x288 with 1 Axes>",
      "image/png": "[encoded data removed]"
     },
     "metadata": {
      "needs_background": "light"
     },
     "output_type": "display_data"
    }
   ],
   "source": [
    "sns.countplot(x='Tier', hue='Race', data=df[df.Tier != '-'],\n",
    "              order=['S','A','B','C','D'])"
   ],
   "metadata": {
    "collapsed": false,
    "pycharm": {
     "name": "#%%\n"
    }
   }
  },
  {
   "cell_type": "code",
   "execution_count": 34,
   "outputs": [],
   "source": [
    "sc_race_colors = {\n",
    "    'Protoss':'#edc124',\n",
    "    'Terran':'#386ca8',\n",
    "    'Zerg':'#953e9e'\n",
    "}"
   ],
   "metadata": {
    "collapsed": false,
    "pycharm": {
     "name": "#%%\n"
    }
   }
  },
  {
   "cell_type": "code",
   "execution_count": 47,
   "outputs": [
    {
     "data": {
      "text/plain": "<Figure size 720x432 with 1 Axes>",
      "image/png": "[encoded data removed]"
     },
     "metadata": {},
     "output_type": "display_data"
    }
   ],
   "source": [
    "sns.countplot(x='Tier', hue='Race', data=df[df.Tier != '-'],\n",
    "              order=['S','A','B','C','D'],\n",
    "              palette=sc_race_colors)\\\n",
    "    .set_title('unit tierlist by Skillous');"
   ],
   "metadata": {
    "collapsed": false,
    "pycharm": {
     "name": "#%%\n"
    }
   }
  },
  {
   "cell_type": "code",
   "execution_count": null,
   "outputs": [],
   "source": [],
   "metadata": {
    "collapsed": false,
    "pycharm": {
     "name": "#%%\n"
    }
   }
  }
 ],
 "metadata": {
  "kernelspec": {
   "display_name": "Python 3 (ipykernel)",
   "language": "python",
   "name": "python3"
  },
  "language_info": {
   "codemirror_mode": {
    "name": "ipython",
    "version": 3
   },
   "file_extension": ".py",
   "mimetype": "text/x-python",
   "name": "python",
   "nbconvert_exporter": "python",
   "pygments_lexer": "ipython3",
   "version": "3.8.6"
  }
 },
 "nbformat": 4,
 "nbformat_minor": 1
}